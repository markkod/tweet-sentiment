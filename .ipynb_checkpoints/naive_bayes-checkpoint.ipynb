{
 "cells": [
  {
   "cell_type": "markdown",
   "metadata": {},
   "source": [
    "# Spark ML sentiment analysis using Naive Bayes model. Dataset: https://github.com/fnielsen/afinn/blob/master/afinn/data/AFINN-111.txt"
   ]
  },
  {
   "cell_type": "code",
   "execution_count": 27,
   "metadata": {},
   "outputs": [],
   "source": [
    "from pyspark.context import SparkContext\n",
    "from pyspark.conf import SparkConf\n",
    "from pyspark.sql.session import SparkSession\n",
    "from pyspark.sql.types import StructType, StructField, IntegerType\n",
    "from pyspark.sql.functions import col"
   ]
  },
  {
   "cell_type": "code",
   "execution_count": 28,
   "metadata": {},
   "outputs": [],
   "source": [
    "conf = SparkConf().setAppName(\"Naive Bayes\")\n",
    "sc = SparkContext.getOrCreate()\n",
    "sqlContext = SparkSession.builder.getOrCreate()"
   ]
  },
  {
   "cell_type": "code",
   "execution_count": 29,
   "metadata": {},
   "outputs": [],
   "source": [
    "# read words from file to dataframe\n",
    "df = sqlContext.read\\\n",
    "    .format(\"csv\")\\\n",
    "    .option(\"header\", \"false\")\\\n",
    "    .option(\"delimiter\", \"\\t\")\\\n",
    "    .option(\"inferSchema\", \"true\")\\\n",
    "    .load(\"afinn.txt\")\n",
    "# rename columns\n",
    "df = df.select(col(\"_c0\").alias(\"word\"), col(\"_c1\").alias(\"valence\"))"
   ]
  },
  {
   "cell_type": "code",
   "execution_count": 31,
   "metadata": {},
   "outputs": [
    {
     "name": "stdout",
     "output_type": "stream",
     "text": [
      "+----------+-------+\n",
      "|      word|valence|\n",
      "+----------+-------+\n",
      "|   abandon|     -2|\n",
      "| abandoned|     -2|\n",
      "|  abandons|     -2|\n",
      "|  abducted|     -2|\n",
      "| abduction|     -2|\n",
      "|abductions|     -2|\n",
      "|     abhor|     -3|\n",
      "|  abhorred|     -3|\n",
      "| abhorrent|     -3|\n",
      "|    abhors|     -3|\n",
      "+----------+-------+\n",
      "only showing top 10 rows\n",
      "\n"
     ]
    }
   ],
   "source": [
    "df.show(10)"
   ]
  },
  {
   "cell_type": "code",
   "execution_count": null,
   "metadata": {},
   "outputs": [],
   "source": []
  }
 ],
 "metadata": {
  "kernelspec": {
   "display_name": "Python 3",
   "language": "python",
   "name": "python3"
  },
  "language_info": {
   "codemirror_mode": {
    "name": "ipython",
    "version": 3
   },
   "file_extension": ".py",
   "mimetype": "text/x-python",
   "name": "python",
   "nbconvert_exporter": "python",
   "pygments_lexer": "ipython3",
   "version": "3.7.4"
  }
 },
 "nbformat": 4,
 "nbformat_minor": 4
}
